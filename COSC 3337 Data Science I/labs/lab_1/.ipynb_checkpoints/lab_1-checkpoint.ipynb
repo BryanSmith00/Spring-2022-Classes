{
 "cells": [
  {
   "cell_type": "code",
   "execution_count": 38,
   "id": "5f824dd4",
   "metadata": {},
   "outputs": [],
   "source": [
    "import numpy as np"
   ]
  },
  {
   "cell_type": "code",
   "execution_count": 39,
   "id": "ccf09b94",
   "metadata": {},
   "outputs": [
    {
     "name": "stdout",
     "output_type": "stream",
     "text": [
      "[1, 2, 3, 4, 5]\n",
      "<class 'list'>\n"
     ]
    }
   ],
   "source": [
    "list = [1, 2, 3, 4, 5]\n",
    "print(list)\n",
    "print(type(list))"
   ]
  },
  {
   "cell_type": "code",
   "execution_count": 40,
   "id": "7ac0ffc7",
   "metadata": {},
   "outputs": [
    {
     "name": "stdout",
     "output_type": "stream",
     "text": [
      "[1 2 3 4 5]\n",
      "<class 'numpy.ndarray'>\n"
     ]
    }
   ],
   "source": [
    "numpy_list = np.array(list)\n",
    "print(numpy_list)\n",
    "print(type(numpy_list))"
   ]
  },
  {
   "cell_type": "code",
   "execution_count": 41,
   "id": "67c537ac",
   "metadata": {},
   "outputs": [
    {
     "name": "stdout",
     "output_type": "stream",
     "text": [
      "[[1, 2, 3, 4, 5], [6, 7, 8, 9, 10], [11, 12, 13, 14, 15]]\n",
      "<class 'list'>\n"
     ]
    }
   ],
   "source": [
    "array2D = [[1, 2, 3, 4, 5], [6, 7, 8, 9, 10], [11, 12, 13, 14, 15]]\n",
    "print(array2D)\n",
    "print(type(array2D))"
   ]
  },
  {
   "cell_type": "code",
   "execution_count": 42,
   "id": "71c8596d",
   "metadata": {},
   "outputs": [
    {
     "name": "stdout",
     "output_type": "stream",
     "text": [
      "[[ 1  2  3  4  5]\n",
      " [ 6  7  8  9 10]\n",
      " [11 12 13 14 15]]\n",
      "<class 'numpy.ndarray'>\n"
     ]
    }
   ],
   "source": [
    "numpy_array2D = np.array(array2D)\n",
    "print(numpy_array2D)\n",
    "print(type(numpy_array2D))"
   ]
  },
  {
   "cell_type": "code",
   "execution_count": 43,
   "id": "668d9be2",
   "metadata": {},
   "outputs": [
    {
     "data": {
      "text/plain": [
       "array([ 0,  1,  2,  3,  4,  5,  6,  7,  8,  9, 10, 11, 12, 13, 14, 15, 16,\n",
       "       17, 18, 19, 20, 21, 22, 23, 24])"
      ]
     },
     "execution_count": 43,
     "metadata": {},
     "output_type": "execute_result"
    }
   ],
   "source": [
    "np.arange(0,25)"
   ]
  },
  {
   "cell_type": "code",
   "execution_count": 44,
   "id": "6a40191a",
   "metadata": {},
   "outputs": [
    {
     "data": {
      "text/plain": [
       "array([ 0,  2,  4,  6,  8, 10, 12, 14, 16, 18, 20, 22, 24])"
      ]
     },
     "execution_count": 44,
     "metadata": {},
     "output_type": "execute_result"
    }
   ],
   "source": [
    "np.arange(0,25,2)"
   ]
  },
  {
   "cell_type": "code",
   "execution_count": 45,
   "id": "de2d1afb",
   "metadata": {},
   "outputs": [
    {
     "data": {
      "text/plain": [
       "array([[0, 1, 2, 3, 4, 5, 6, 7, 8, 9]])"
      ]
     },
     "execution_count": 45,
     "metadata": {},
     "output_type": "execute_result"
    }
   ],
   "source": [
    "np.arange(0,10).reshape(2,5)\n",
    "np.arange(0,10).reshape(1,10)\n",
    "#Product of rows and columns must equal num elements in the array"
   ]
  },
  {
   "cell_type": "code",
   "execution_count": 46,
   "id": "cdd9a4fd",
   "metadata": {},
   "outputs": [
    {
     "data": {
      "text/plain": [
       "array([[1, 1, 1, 1, 1],\n",
       "       [1, 1, 1, 1, 1],\n",
       "       [1, 1, 1, 1, 1],\n",
       "       [1, 1, 1, 1, 1],\n",
       "       [1, 1, 1, 1, 1]])"
      ]
     },
     "execution_count": 46,
     "metadata": {},
     "output_type": "execute_result"
    }
   ],
   "source": [
    "np.ones(25, dtype=int).reshape(5,5)"
   ]
  },
  {
   "cell_type": "code",
   "execution_count": 47,
   "id": "9e514014",
   "metadata": {},
   "outputs": [
    {
     "name": "stdout",
     "output_type": "stream",
     "text": [
      "[[1. 0. 0.]\n",
      " [0. 1. 0.]\n",
      " [0. 0. 1.]]\n",
      "[[1 0 0 0 0]\n",
      " [0 1 0 0 0]\n",
      " [0 0 1 0 0]\n",
      " [0 0 0 1 0]\n",
      " [0 0 0 0 1]]\n"
     ]
    }
   ],
   "source": [
    "print(np.eye(3))\n",
    "#Creates identity matrix of size n x n\n",
    "print(np.eye(5, dtype=int))"
   ]
  },
  {
   "cell_type": "code",
   "execution_count": 48,
   "id": "33c641af",
   "metadata": {},
   "outputs": [
    {
     "name": "stdout",
     "output_type": "stream",
     "text": [
      "[0.83249836 0.7408659  0.27471953 0.02268023 0.8207865 ]\n",
      "[ 0.51166764 -0.13567275  0.14823225 -0.74460135  0.19147401]\n",
      "[ 0 79]\n"
     ]
    }
   ],
   "source": [
    "print(np.random.rand(5)) #random values from 0 to 1\n",
    "print(np.random.randn(5)) #random values from the normal distribution\n",
    "print(np.random.randint(0,100,2)) #prints random ints in range low to high (low, high, size)"
   ]
  },
  {
   "cell_type": "code",
   "execution_count": 49,
   "id": "24bcb7be",
   "metadata": {},
   "outputs": [
    {
     "name": "stdout",
     "output_type": "stream",
     "text": [
      "[[97 88 82 93 87]\n",
      " [34 62  8 21 58]\n",
      " [37 61 65 66 26]\n",
      " [58 79 70 98  2]]\n",
      "The smallest value: 2, and is located at position: 19\n",
      "The largest value: 98, and is located at position: 18\n",
      "The current shape of A is (4, 5)\n"
     ]
    }
   ],
   "source": [
    "A = np.random.randint(0, 100, 20).reshape(4, 5)\n",
    "print(A)\n",
    "print(f\"The smallest value: {A.min()}, and is located at position: {A.argmin()}\")\n",
    "print(f\"The largest value: {A.max()}, and is located at position: {A.argmax()}\")\n",
    "print(f\"The current shape of A is {A.shape}\")\n",
    "#You can put variables inside print strings!!!!!!!"
   ]
  },
  {
   "cell_type": "code",
   "execution_count": 50,
   "id": "26084a12",
   "metadata": {},
   "outputs": [
    {
     "name": "stdout",
     "output_type": "stream",
     "text": [
      "A: [ 1  2  3  4  5  6  7  8  9 10 11 12 13 14 15]\n",
      "B: [ 1  3  5  7  9 11 13 15 17 19 21 23 25 27 29]\n",
      "C:\n",
      "[[0 1]\n",
      " [2 3]]\n",
      "D:\n",
      "[[0 1]\n",
      " [2 3]]\n",
      "E:\n",
      "[[ 1  2  3  4  5]\n",
      " [ 6  7  8  9 10]\n",
      " [11 12 13 14 15]]\n",
      "F: [ 0  1  2  3  4  5  6  7  8  9 10]\n"
     ]
    }
   ],
   "source": [
    "A = np.arange(1, 16)\n",
    "B = np.arange(1, 30, 2)\n",
    "C = np.arange(0, 4).reshape(2, 2)\n",
    "D = np.arange(0, 4).reshape(2, 2)\n",
    "E = np.arange(1, 16).reshape(3, 5)\n",
    "F = np.arange(11)\n",
    "print(f'A: {A}')\n",
    "print(f'B: {B}')\n",
    "print('C:')\n",
    "print(C)\n",
    "print('D:')\n",
    "print(D)\n",
    "print('E:')\n",
    "print(E)\n",
    "print(f'F: {F}')"
   ]
  },
  {
   "cell_type": "code",
   "execution_count": 51,
   "id": "c8a78696",
   "metadata": {},
   "outputs": [
    {
     "name": "stdout",
     "output_type": "stream",
     "text": [
      "[ 2  5  8 11 14 17 20 23 26 29 32 35 38 41 44]\n",
      "[ 6  7  8  9 10 11 12 13 14 15 16 17 18 19 20]\n",
      "[  1   6  15  28  45  66  91 120 153 190 231 276 325 378 435]\n",
      "[1.         0.66666667 0.6        0.57142857 0.55555556 0.54545455\n",
      " 0.53846154 0.53333333 0.52941176 0.52631579 0.52380952 0.52173913\n",
      " 0.52       0.51851852 0.51724138]\n",
      "[1.         1.5        1.66666667 1.75       1.8        1.83333333\n",
      " 1.85714286 1.875      1.88888889 1.9        1.90909091 1.91666667\n",
      " 1.92307692 1.92857143 1.93333333]\n"
     ]
    }
   ],
   "source": [
    "print(A+B) #Adds items elementwise\n",
    "print(A+5) #Adds 5 to each item in the array\n",
    "print(A*B) #Multiplies arrays elementwise\n",
    "print(A/B)\n",
    "print(B/A)"
   ]
  },
  {
   "cell_type": "code",
   "execution_count": 52,
   "id": "dc2fa366",
   "metadata": {},
   "outputs": [
    {
     "name": "stdout",
     "output_type": "stream",
     "text": [
      "[[ 2  3]\n",
      " [ 6 11]]\n",
      "[[1.         1.41421356 1.73205081 2.         2.23606798]\n",
      " [2.44948974 2.64575131 2.82842712 3.         3.16227766]\n",
      " [3.31662479 3.46410162 3.60555128 3.74165739 3.87298335]]\n",
      "[[0.         0.69314718 1.09861229 1.38629436 1.60943791]\n",
      " [1.79175947 1.94591015 2.07944154 2.19722458 2.30258509]\n",
      " [2.39789527 2.48490665 2.56494936 2.63905733 2.7080502 ]]\n"
     ]
    }
   ],
   "source": [
    "print(np.matmul(C, D)) #perfoms matrix multiplication\n",
    "print(np.sqrt(E))\n",
    "print(np.log(E))\n",
    "#these universal functions are cool because they work on all the elements of the array without needing a for loop"
   ]
  },
  {
   "cell_type": "code",
   "execution_count": 53,
   "id": "f144960a",
   "metadata": {},
   "outputs": [
    {
     "name": "stdout",
     "output_type": "stream",
     "text": [
      "[ -1 100  -1 300  -1 500  -1 700  -1 900  -1]\n"
     ]
    }
   ],
   "source": [
    "print(np.where(F%2==0, -1, F*100))"
   ]
  },
  {
   "cell_type": "markdown",
   "id": "b250eff3",
   "metadata": {},
   "source": [
    "# Indexing"
   ]
  },
  {
   "cell_type": "code",
   "execution_count": 54,
   "id": "cb9a3ad4",
   "metadata": {},
   "outputs": [
    {
     "name": "stdout",
     "output_type": "stream",
     "text": [
      "[ 0  1  2  3  4  5  6  7  8  9 10 11 12 13 14]\n"
     ]
    }
   ],
   "source": [
    "A = np.arange(15)\n",
    "print(A)"
   ]
  },
  {
   "cell_type": "code",
   "execution_count": 59,
   "id": "ecf00f21",
   "metadata": {},
   "outputs": [
    {
     "name": "stdout",
     "output_type": "stream",
     "text": [
      "A[0]: 10\n",
      "A[5]: 5\n",
      "A[14]: 14\n",
      "[10 10  3  4  5]\n",
      "[10 10 10 10 10  5  6  7  8  9 10 11 12 13 14]\n"
     ]
    }
   ],
   "source": [
    "print(f'A[0]: {A[0]}')\n",
    "print(f'A[5]: {A[5]}')\n",
    "print(f'A[14]: {A[14]}')\n",
    "print(A[1:6]) #This is another really cool feature you can easily slice an array\n",
    "A[0:5] = 10 #Can change any values along the slice\n",
    "print(A)"
   ]
  },
  {
   "cell_type": "code",
   "execution_count": 61,
   "id": "2b3564bb",
   "metadata": {},
   "outputs": [
    {
     "name": "stdout",
     "output_type": "stream",
     "text": [
      "[[ 0  1  2  3  4  5  6  7  8  9]\n",
      " [10 11 12 13 14 15 16 17 18 19]\n",
      " [20 21 22 23 24 25 26 27 28 29]\n",
      " [30 31 32 33 34 35 36 37 38 39]\n",
      " [40 41 42 43 44 45 46 47 48 49]]\n"
     ]
    }
   ],
   "source": [
    "B = np.arange(50).reshape(5, 10) #5 rows 10 columns 2D array\n",
    "print(B)"
   ]
  },
  {
   "cell_type": "code",
   "execution_count": 66,
   "id": "26f11f05",
   "metadata": {},
   "outputs": [
    {
     "name": "stdout",
     "output_type": "stream",
     "text": [
      "0th row and 2nd col in B: 2\n",
      "3rd row and 3rd col in B: 33\n",
      "4th row and 2nd col in B: 42\n",
      "[[0 0]\n",
      " [0 0]]\n",
      "[[ 0  1  2  0  0  5  6  7  8  9]\n",
      " [10 11 12  0  0 15 16 17 18 19]\n",
      " [20 21 22 23 24 25 26 27 28 29]\n",
      " [30 31 32 33 34 35 36 37 38 39]\n",
      " [40 41 42 43 44 45 46 47 48 49]]\n"
     ]
    }
   ],
   "source": [
    "print(f'0th row and 2nd col in B: {B[0, 2]}')\n",
    "print(f'3rd row and 3rd col in B: {B[3, 3]}')\n",
    "print(f'4th row and 2nd col in B: {B[4, 2]}')\n",
    "#Indexing 2D array is the same as C++\n",
    "print(B[0:2, 3:5]) #Really cool you can also index slices of a 2D array in a single line\n",
    "B[0:2, 3:5] = 0\n",
    "print(B)"
   ]
  },
  {
   "cell_type": "markdown",
   "id": "e2878da9",
   "metadata": {},
   "source": [
    "## Boolean array indexing\n",
    "\n",
    "A really cool feature of NumPy is that we can index arrays using comparison operators. This Lets us modify or select only elements meeting some condition. To demonstrate this, lets first see what is returned when we try to use comparison operators with our arrays"
   ]
  },
  {
   "cell_type": "code",
   "execution_count": 67,
   "id": "3ed16d70",
   "metadata": {},
   "outputs": [
    {
     "name": "stdout",
     "output_type": "stream",
     "text": [
      "[[ 0  1  2  3  4]\n",
      " [ 5  6  7  8  9]\n",
      " [10 11 12 13 14]\n",
      " [15 16 17 18 19]\n",
      " [20 21 22 23 24]\n",
      " [25 26 27 28 29]\n",
      " [30 31 32 33 34]\n",
      " [35 36 37 38 39]\n",
      " [40 41 42 43 44]\n",
      " [45 46 47 48 49]]\n"
     ]
    }
   ],
   "source": [
    "C = np.arange(50).reshape(10, 5)\n",
    "print(C)"
   ]
  },
  {
   "cell_type": "code",
   "execution_count": 68,
   "id": "88d965bd",
   "metadata": {},
   "outputs": [
    {
     "name": "stdout",
     "output_type": "stream",
     "text": [
      "[[ True False  True False  True]\n",
      " [False  True False  True False]\n",
      " [ True False  True False  True]\n",
      " [False  True False  True False]\n",
      " [ True False  True False  True]\n",
      " [False  True False  True False]\n",
      " [ True False  True False  True]\n",
      " [False  True False  True False]\n",
      " [ True False  True False  True]\n",
      " [False  True False  True False]]\n"
     ]
    }
   ],
   "source": [
    "print(C%2 == 0) #Prints a 2D boolean array cooresponding to the truth values at each index against the condition"
   ]
  },
  {
   "cell_type": "code",
   "execution_count": 71,
   "id": "67e4d177",
   "metadata": {},
   "outputs": [
    {
     "name": "stdout",
     "output_type": "stream",
     "text": [
      "25\n",
      "[ 0  2  4  6  8 10 12 14 16 18 20 22 24 26 28 30 32 34 36 38 40 42 44 46\n",
      " 48]\n"
     ]
    }
   ],
   "source": [
    "print((C%2 == 0).sum()) #Sums up all the truth values from the condition\n",
    "print(C[C%2 == 0]) #This will only give you the indexes that match the condition"
   ]
  }
 ],
 "metadata": {
  "kernelspec": {
   "display_name": "Python 3 (ipykernel)",
   "language": "python",
   "name": "python3"
  },
  "language_info": {
   "codemirror_mode": {
    "name": "ipython",
    "version": 3
   },
   "file_extension": ".py",
   "mimetype": "text/x-python",
   "name": "python",
   "nbconvert_exporter": "python",
   "pygments_lexer": "ipython3",
   "version": "3.9.7"
  }
 },
 "nbformat": 4,
 "nbformat_minor": 5
}
