{
 "cells": [
  {
   "cell_type": "markdown",
   "id": "fd4ccc9f",
   "metadata": {},
   "source": [
    "# Homework 4 (Neural Networks)\n",
    "---"
   ]
  },
  {
   "cell_type": "code",
   "execution_count": 1,
   "id": "d60102a1",
   "metadata": {},
   "outputs": [],
   "source": [
    "import numpy as np \n",
    "import pandas as pd \n",
    "import matplotlib.pyplot as plt \n",
    "import seaborn as sns"
   ]
  },
  {
   "cell_type": "code",
   "execution_count": 2,
   "id": "1e9309ab",
   "metadata": {},
   "outputs": [],
   "source": [
    "from matplotlib import rcParams \n",
    "rcParams['figure.figsize'] = 15, 5 \n",
    "sns.set_style('darkgrid')\n",
    "pd.options.display.float_format = \"{:,.4f}\".format"
   ]
  },
  {
   "cell_type": "code",
   "execution_count": 16,
   "id": "ff303c5b",
   "metadata": {},
   "outputs": [],
   "source": [
    "from sklearn.datasets import fetch_california_housing\n",
    "california = fetch_california_housing(as_frame=True)\n",
    "california = california.data"
   ]
  },
  {
   "cell_type": "code",
   "execution_count": 18,
   "id": "bec1cf92",
   "metadata": {},
   "outputs": [
    {
     "data": {
      "text/html": [
       "<div>\n",
       "<style scoped>\n",
       "    .dataframe tbody tr th:only-of-type {\n",
       "        vertical-align: middle;\n",
       "    }\n",
       "\n",
       "    .dataframe tbody tr th {\n",
       "        vertical-align: top;\n",
       "    }\n",
       "\n",
       "    .dataframe thead th {\n",
       "        text-align: right;\n",
       "    }\n",
       "</style>\n",
       "<table border=\"1\" class=\"dataframe\">\n",
       "  <thead>\n",
       "    <tr style=\"text-align: right;\">\n",
       "      <th></th>\n",
       "      <th>MedInc</th>\n",
       "      <th>HouseAge</th>\n",
       "      <th>AveRooms</th>\n",
       "      <th>AveBedrms</th>\n",
       "      <th>Population</th>\n",
       "      <th>AveOccup</th>\n",
       "      <th>Latitude</th>\n",
       "      <th>Longitude</th>\n",
       "    </tr>\n",
       "  </thead>\n",
       "  <tbody>\n",
       "    <tr>\n",
       "      <th>0</th>\n",
       "      <td>8.3252</td>\n",
       "      <td>41.0000</td>\n",
       "      <td>6.9841</td>\n",
       "      <td>1.0238</td>\n",
       "      <td>322.0000</td>\n",
       "      <td>2.5556</td>\n",
       "      <td>37.8800</td>\n",
       "      <td>-122.2300</td>\n",
       "    </tr>\n",
       "    <tr>\n",
       "      <th>1</th>\n",
       "      <td>8.3014</td>\n",
       "      <td>21.0000</td>\n",
       "      <td>6.2381</td>\n",
       "      <td>0.9719</td>\n",
       "      <td>2,401.0000</td>\n",
       "      <td>2.1098</td>\n",
       "      <td>37.8600</td>\n",
       "      <td>-122.2200</td>\n",
       "    </tr>\n",
       "    <tr>\n",
       "      <th>2</th>\n",
       "      <td>7.2574</td>\n",
       "      <td>52.0000</td>\n",
       "      <td>8.2881</td>\n",
       "      <td>1.0734</td>\n",
       "      <td>496.0000</td>\n",
       "      <td>2.8023</td>\n",
       "      <td>37.8500</td>\n",
       "      <td>-122.2400</td>\n",
       "    </tr>\n",
       "    <tr>\n",
       "      <th>3</th>\n",
       "      <td>5.6431</td>\n",
       "      <td>52.0000</td>\n",
       "      <td>5.8174</td>\n",
       "      <td>1.0731</td>\n",
       "      <td>558.0000</td>\n",
       "      <td>2.5479</td>\n",
       "      <td>37.8500</td>\n",
       "      <td>-122.2500</td>\n",
       "    </tr>\n",
       "    <tr>\n",
       "      <th>4</th>\n",
       "      <td>3.8462</td>\n",
       "      <td>52.0000</td>\n",
       "      <td>6.2819</td>\n",
       "      <td>1.0811</td>\n",
       "      <td>565.0000</td>\n",
       "      <td>2.1815</td>\n",
       "      <td>37.8500</td>\n",
       "      <td>-122.2500</td>\n",
       "    </tr>\n",
       "  </tbody>\n",
       "</table>\n",
       "</div>"
      ],
      "text/plain": [
       "   MedInc  HouseAge  AveRooms  AveBedrms  Population  AveOccup  Latitude  \\\n",
       "0  8.3252   41.0000    6.9841     1.0238    322.0000    2.5556   37.8800   \n",
       "1  8.3014   21.0000    6.2381     0.9719  2,401.0000    2.1098   37.8600   \n",
       "2  7.2574   52.0000    8.2881     1.0734    496.0000    2.8023   37.8500   \n",
       "3  5.6431   52.0000    5.8174     1.0731    558.0000    2.5479   37.8500   \n",
       "4  3.8462   52.0000    6.2819     1.0811    565.0000    2.1815   37.8500   \n",
       "\n",
       "   Longitude  \n",
       "0  -122.2300  \n",
       "1  -122.2200  \n",
       "2  -122.2400  \n",
       "3  -122.2500  \n",
       "4  -122.2500  "
      ]
     },
     "execution_count": 18,
     "metadata": {},
     "output_type": "execute_result"
    }
   ],
   "source": [
    "california.head()"
   ]
  }
 ],
 "metadata": {
  "kernelspec": {
   "display_name": "Python 3 (ipykernel)",
   "language": "python",
   "name": "python3"
  },
  "language_info": {
   "codemirror_mode": {
    "name": "ipython",
    "version": 3
   },
   "file_extension": ".py",
   "mimetype": "text/x-python",
   "name": "python",
   "nbconvert_exporter": "python",
   "pygments_lexer": "ipython3",
   "version": "3.9.7"
  }
 },
 "nbformat": 4,
 "nbformat_minor": 5
}
